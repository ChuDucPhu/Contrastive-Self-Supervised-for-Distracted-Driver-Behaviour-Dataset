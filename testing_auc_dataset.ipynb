{
 "cells": [
  {
   "cell_type": "markdown",
   "metadata": {},
   "source": [
    "# **Import libraries**"
   ]
  },
  {
   "cell_type": "code",
   "execution_count": null,
   "metadata": {
    "execution": {
     "iopub.execute_input": "2024-06-26T09:35:38.974404Z",
     "iopub.status.busy": "2024-06-26T09:35:38.973496Z",
     "iopub.status.idle": "2024-06-26T09:35:52.642110Z",
     "shell.execute_reply": "2024-06-26T09:35:52.641154Z",
     "shell.execute_reply.started": "2024-06-26T09:35:38.974363Z"
    },
    "trusted": true
   },
   "outputs": [],
   "source": [
    "import numpy as np\n",
    "import pandas as pd\n",
    "%matplotlib inline\n",
    "import matplotlib.pyplot as plt\n",
    "import glob\n",
    "import math\n",
    "import cv2\n",
    "\n",
    "import argparse\n",
    "import random\n",
    "import gc\n",
    "import os\n",
    "os.environ[\"KERAS_BACKEND\"] = \"tensorflow\"\n",
    "\n",
    "from tqdm import tqdm\n",
    "pd.options.display.max_colwidth = 1000\n",
    "tqdm.pandas()\n",
    "\n",
    "import keras\n",
    "from keras.models import Sequential, Model, load_model\n",
    "from keras.layers import Dense, Dropout, Activation, Flatten, Add, Concatenate, Input\n",
    "from keras.layers import Conv2D, MaxPooling2D, ZeroPadding2D, AveragePooling2D, LSTM, Reshape\n",
    "from keras.layers import BatchNormalization, SeparableConv2D, DepthwiseConv2D, LeakyReLU, GlobalAveragePooling2D\n",
    "from keras import optimizers\n",
    "from keras import backend as K\n",
    "from keras import layers\n",
    "\n",
    "import tensorflow as tf\n",
    "import tensorflow_datasets as tfds\n",
    "from tensorflow.keras.regularizers import L2\n",
    "from tensorflow.keras.preprocessing.image import ImageDataGenerator, load_img, img_to_array\n",
    "from tensorflow.keras.utils import to_categorical\n",
    "\n",
    "from sklearn.model_selection import train_test_split\n",
    "from sklearn.utils import shuffle\n",
    "\n",
    "# Make sure we are able to handle large datasets\n",
    "import resource\n",
    "\n",
    "low, high = resource.getrlimit(resource.RLIMIT_NOFILE)\n",
    "resource.setrlimit(resource.RLIMIT_NOFILE, (high, high))"
   ]
  },
  {
   "cell_type": "markdown",
   "metadata": {},
   "source": [
    "# Initialize constants and lists"
   ]
  },
  {
   "cell_type": "code",
   "execution_count": null,
   "metadata": {},
   "outputs": [],
   "source": [
    "activity_map = {'c0': 'Safe driving',\n",
    "                'c1': 'Texting - right',\n",
    "                'c2': 'Talking on the phone - right',\n",
    "                'c3': 'Texting - left',\n",
    "                'c4': 'Talking on the phone - left',\n",
    "                'c5': 'Operating the radio',\n",
    "                'c6': 'Drinking',\n",
    "                'c7': 'Reaching behind',\n",
    "                'c8': 'Hair and makeup',\n",
    "                'c9': 'Talking to passenger'}\n",
    "class_mapping = {'c0': 0,\n",
    "                'c1': 1,\n",
    "                'c2': 2,\n",
    "                'c3': 3,\n",
    "                'c4': 4,\n",
    "                'c5': 5,\n",
    "                'c6': 6,\n",
    "                'c7': 7,\n",
    "                'c8': 8,\n",
    "                'c9': 9}\n",
    "\n",
    "# Algorithm hyperparameters\n",
    "num_epochs = 70\n",
    "batch_size = 64\n",
    "width = 256\n",
    "temperature = 0.1\n",
    "\n",
    "# Stronger augmentations for contrastive, weaker ones for supervised training\n",
    "contrastive_augmentation = {\n",
    "    \"min_area\": 0.75, \n",
    "    \"brightness\": 0.5, \n",
    "    \"jitter\": 0.2\n",
    "}\n",
    "\n",
    "classification_augmentation = {\n",
    "    \"min_area\": 0.8,\n",
    "    \"brightness\": 0.3,\n",
    "    \"jitter\": 0.1,\n",
    "}\n",
    "\n",
    "IMG_DIM = 208\n",
    "CHANNEL_SIZE = 3\n",
    "BATCH_SIZE = 64"
   ]
  },
  {
   "cell_type": "markdown",
   "metadata": {},
   "source": [
    "**AUC data test**"
   ]
  },
  {
   "cell_type": "code",
   "execution_count": null,
   "metadata": {
    "execution": {
     "iopub.execute_input": "2024-06-26T11:35:13.106088Z",
     "iopub.status.busy": "2024-06-26T11:35:13.105731Z",
     "iopub.status.idle": "2024-06-26T11:35:13.130024Z",
     "shell.execute_reply": "2024-06-26T11:35:13.129240Z",
     "shell.execute_reply.started": "2024-06-26T11:35:13.106058Z"
    },
    "trusted": true
   },
   "outputs": [],
   "source": [
    "auc_data_path = ''/kaggle/input/auc-dataset/v2_cam1_cam2_split_by_driver/Camera_1'\n",
    "\n",
    "driver_imgs_list_train_AUC = pd.read_csv(os.path.join(auc_data_path, 'train_imgs_list_cam1.csv'))"
   ]
  },
  {
   "cell_type": "code",
   "execution_count": null,
   "metadata": {
    "execution": {
     "iopub.execute_input": "2024-06-26T11:35:13.280813Z",
     "iopub.status.busy": "2024-06-26T11:35:13.280511Z",
     "iopub.status.idle": "2024-06-26T11:35:16.004993Z",
     "shell.execute_reply": "2024-06-26T11:35:16.003976Z",
     "shell.execute_reply.started": "2024-06-26T11:35:13.280788Z"
    },
    "trusted": true
   },
   "outputs": [],
   "source": [
    "list_train_img_AUC = glob.glob(os.path.join(auc_data_path, \"train\", \"*\",  \"*.jpg\"))\n",
    "print(\"Total number of Train Images is -------->\", len(list_train_img_AUC))"
   ]
  },
  {
   "cell_type": "code",
   "execution_count": null,
   "metadata": {
    "execution": {
     "iopub.execute_input": "2024-06-26T11:35:16.007435Z",
     "iopub.status.busy": "2024-06-26T11:35:16.006963Z",
     "iopub.status.idle": "2024-06-26T11:35:23.380894Z",
     "shell.execute_reply": "2024-06-26T11:35:23.380014Z",
     "shell.execute_reply.started": "2024-06-26T11:35:16.007399Z"
    },
    "trusted": true
   },
   "outputs": [],
   "source": [
    "driver_imgs_list_train_AUC['ImgPath'] = driver_imgs_list_train_AUC['img'].progress_apply(lambda x: [i for i in  list_train_img_AUC if x in i][0])\n",
    "\n",
    "driver_imgs_list_train_AUC['class'] = driver_imgs_list_train_AUC['classname'].replace(activity_map)\n",
    "df_AUC = driver_imgs_list_train_AUC.copy()\n",
    "\n",
    "#del driver_imgs_list_train, list_train_img"
   ]
  },
  {
   "cell_type": "code",
   "execution_count": null,
   "metadata": {
    "execution": {
     "iopub.execute_input": "2024-06-26T11:35:23.382414Z",
     "iopub.status.busy": "2024-06-26T11:35:23.382110Z",
     "iopub.status.idle": "2024-06-26T11:35:23.394575Z",
     "shell.execute_reply": "2024-06-26T11:35:23.393667Z",
     "shell.execute_reply.started": "2024-06-26T11:35:23.382388Z"
    },
    "trusted": true
   },
   "outputs": [],
   "source": [
    "df_AUC.head(100)"
   ]
  },
  {
   "cell_type": "code",
   "execution_count": null,
   "metadata": {
    "execution": {
     "iopub.execute_input": "2024-06-26T11:35:23.397066Z",
     "iopub.status.busy": "2024-06-26T11:35:23.396798Z",
     "iopub.status.idle": "2024-06-26T11:35:23.980829Z",
     "shell.execute_reply": "2024-06-26T11:35:23.979901Z",
     "shell.execute_reply.started": "2024-06-26T11:35:23.397042Z"
    },
    "trusted": true
   },
   "outputs": [],
   "source": [
    "# BatPlot and Piechart\n",
    "class_freq_count = df_AUC['class'].value_counts()\n",
    "\n",
    "class_freq_count.plot(kind='bar', label='index')\n",
    "plt.title('Sample Per Class')\n",
    "plt.show()\n",
    "\n",
    "class_freq_count.plot(kind='pie', autopct='%1.1f%%', label='index')\n",
    "plt.title('Sample % per class')\n",
    "plt.show()"
   ]
  },
  {
   "cell_type": "code",
   "execution_count": null,
   "metadata": {
    "execution": {
     "iopub.execute_input": "2024-06-26T11:35:23.982605Z",
     "iopub.status.busy": "2024-06-26T11:35:23.982245Z",
     "iopub.status.idle": "2024-06-26T11:35:24.013598Z",
     "shell.execute_reply": "2024-06-26T11:35:24.012817Z",
     "shell.execute_reply.started": "2024-06-26T11:35:23.982574Z"
    },
    "trusted": true
   },
   "outputs": [],
   "source": [
    "from sklearn.model_selection import train_test_split\n",
    "train_dataset_AUC, test_valid_dataset_AUC = train_test_split(df_AUC ,test_size = 0.5 , random_state = 42, shuffle = True,\n",
    "                                              stratify = df_AUC['class'])\n",
    "valid_dataset_AUC, test_dataset_AUC = train_test_split(test_valid_dataset_AUC, test_size = 0.5, random_state = 42, shuffle = True,\n",
    "                                              stratify = test_valid_dataset_AUC['class'])"
   ]
  },
  {
   "cell_type": "code",
   "execution_count": null,
   "metadata": {
    "execution": {
     "iopub.execute_input": "2024-06-26T11:35:24.014964Z",
     "iopub.status.busy": "2024-06-26T11:35:24.014676Z",
     "iopub.status.idle": "2024-06-26T11:35:24.021484Z",
     "shell.execute_reply": "2024-06-26T11:35:24.020416Z",
     "shell.execute_reply.started": "2024-06-26T11:35:24.014937Z"
    },
    "trusted": true
   },
   "outputs": [],
   "source": [
    "len(train_dataset_AUC), len(valid_dataset_AUC), len(test_dataset_AUC)"
   ]
  },
  {
   "cell_type": "code",
   "execution_count": null,
   "metadata": {
    "execution": {
     "iopub.execute_input": "2024-06-26T11:35:24.022919Z",
     "iopub.status.busy": "2024-06-26T11:35:24.022675Z",
     "iopub.status.idle": "2024-06-26T11:35:24.030425Z",
     "shell.execute_reply": "2024-06-26T11:35:24.029589Z",
     "shell.execute_reply.started": "2024-06-26T11:35:24.022897Z"
    },
    "trusted": true
   },
   "outputs": [],
   "source": [
    "from tensorflow.keras.preprocessing.image import ImageDataGenerator\n",
    "\n",
    "# Define data generators\n",
    "train_datagen = ImageDataGenerator(rescale=1./255)\n",
    "valid_datagen = ImageDataGenerator(rescale=1./255)\n",
    "test_datagen = ImageDataGenerator(rescale=1./255)"
   ]
  },
  {
   "cell_type": "code",
   "execution_count": null,
   "metadata": {
    "execution": {
     "iopub.execute_input": "2024-06-26T11:35:24.031786Z",
     "iopub.status.busy": "2024-06-26T11:35:24.031527Z",
     "iopub.status.idle": "2024-06-26T11:35:26.286966Z",
     "shell.execute_reply": "2024-06-26T11:35:26.286248Z",
     "shell.execute_reply.started": "2024-06-26T11:35:24.031762Z"
    },
    "trusted": true
   },
   "outputs": [],
   "source": [
    "'''\n",
    "training_set = train_datagen.flow_from_dataframe(\n",
    "                        dataframe = train_dataset_AUC,\n",
    "                        x_col = 'ImgPath',\n",
    "                        y_col = 'class',\n",
    "                        target_size=(IMG_DIM,IMG_DIM),\n",
    "                        class_mode = 'categorical',\n",
    "                        batch_size= 64)\n",
    "\n",
    "validation_set = valid_datagen.flow_from_dataframe(\n",
    "                dataframe = valid_dataset_AUC,\n",
    "                x_col = 'ImgPath',\n",
    "                y_col = 'class',\n",
    "                target_size = (IMG_DIM, IMG_DIM),\n",
    "                class_mode = 'categorical',\n",
    "                batch_size = 64)\n",
    "'''\n",
    "test_set_AUC = test_datagen.flow_from_dataframe(\n",
    "                dataframe = test_dataset_AUC,\n",
    "                x_col = \"ImgPath\",\n",
    "                y_col = 'class',\n",
    "                target_size = (IMG_DIM, IMG_DIM),\n",
    "                class_mode = 'categorical',\n",
    "                batch_size = 64)"
   ]
  },
  {
   "cell_type": "code",
   "execution_count": null,
   "metadata": {
    "execution": {
     "iopub.execute_input": "2024-06-26T11:35:26.288280Z",
     "iopub.status.busy": "2024-06-26T11:35:26.287992Z",
     "iopub.status.idle": "2024-06-26T11:35:26.299479Z",
     "shell.execute_reply": "2024-06-26T11:35:26.298531Z",
     "shell.execute_reply.started": "2024-06-26T11:35:26.288255Z"
    },
    "trusted": true
   },
   "outputs": [],
   "source": [
    "test_dataset_AUC = test_dataset_AUC['ImgPath class'.split()].copy().reset_index(drop=True)\n",
    "print(\"shape_of_the_valid_dataset\", test_dataset_AUC.shape)\n",
    "test_dataset_AUC.sample(1)"
   ]
  },
  {
   "cell_type": "code",
   "execution_count": null,
   "metadata": {
    "execution": {
     "iopub.execute_input": "2024-06-26T11:35:26.302409Z",
     "iopub.status.busy": "2024-06-26T11:35:26.302126Z",
     "iopub.status.idle": "2024-06-26T11:39:20.906923Z",
     "shell.execute_reply": "2024-06-26T11:39:20.905911Z",
     "shell.execute_reply.started": "2024-06-26T11:35:26.302385Z"
    },
    "trusted": true
   },
   "outputs": [],
   "source": [
    "test_dataset_AUC['prediction'] = test_dataset_AUC['ImgPath'].progress_apply(lambda x:model_prediction(x, finetuning_model))\n",
    "test_dataset_AUC.head(5)"
   ]
  },
  {
   "cell_type": "code",
   "execution_count": null,
   "metadata": {
    "execution": {
     "iopub.execute_input": "2024-06-26T11:39:20.908603Z",
     "iopub.status.busy": "2024-06-26T11:39:20.908175Z",
     "iopub.status.idle": "2024-06-26T11:39:20.914404Z",
     "shell.execute_reply": "2024-06-26T11:39:20.913231Z",
     "shell.execute_reply.started": "2024-06-26T11:39:20.908574Z"
    },
    "trusted": true
   },
   "outputs": [],
   "source": [
    "y_true_test = list(test_dataset_AUC['class'])\n",
    "y_pred_test = list(test_dataset_AUC['prediction'])"
   ]
  },
  {
   "cell_type": "code",
   "execution_count": null,
   "metadata": {
    "execution": {
     "iopub.execute_input": "2024-06-26T11:39:20.916352Z",
     "iopub.status.busy": "2024-06-26T11:39:20.915727Z",
     "iopub.status.idle": "2024-06-26T11:39:20.940924Z",
     "shell.execute_reply": "2024-06-26T11:39:20.939887Z",
     "shell.execute_reply.started": "2024-06-26T11:39:20.916309Z"
    },
    "trusted": true
   },
   "outputs": [],
   "source": [
    "c_m_test_AUC = confusion_matrix(y_true_test, y_pred_test)"
   ]
  },
  {
   "cell_type": "code",
   "execution_count": null,
   "metadata": {
    "execution": {
     "iopub.execute_input": "2024-06-26T11:39:20.942649Z",
     "iopub.status.busy": "2024-06-26T11:39:20.942240Z",
     "iopub.status.idle": "2024-06-26T11:39:21.569717Z",
     "shell.execute_reply": "2024-06-26T11:39:21.568775Z",
     "shell.execute_reply.started": "2024-06-26T11:39:20.942611Z"
    },
    "trusted": true
   },
   "outputs": [],
   "source": [
    "# Magic function that renders the figure in a jupyter notebook\n",
    "# instead of displaying a figure object\n",
    "%matplotlib inline\n",
    "\n",
    "\n",
    "# Setting default size of the plot\n",
    "# Setting default fontsize used in the plot\n",
    "plt.rcParams['figure.figsize'] = (10.0, 9.0)\n",
    "plt.rcParams['font.size'] = 20\n",
    "\n",
    "\n",
    "# Implementing visualization of Confusion Matrix\n",
    "display_c_m = ConfusionMatrixDisplay(c_m_test_AUC, display_labels=sorted_labels)\n",
    "\n",
    "\n",
    "# Plotting Confusion Matrix\n",
    "# Setting colour map to be used\n",
    "display_c_m.plot(cmap='OrRd', xticks_rotation=25)\n",
    "# Other possible options for colour map are:\n",
    "# 'autumn_r', 'Blues', 'cool', 'Greens', 'Greys', 'PuRd', 'copper_r'\n",
    "\n",
    "# Setting fontsize for xticks and yticks\n",
    "plt.xticks(np.arange(len(label_map)), label_map.keys(), fontsize=10, rotation=25)\n",
    "plt.yticks(np.arange(len(label_map)), label_map.keys(), fontsize=10)\n",
    "\n",
    "\n",
    "# Giving name to the plot\n",
    "plt.title('Confusion Matrix on Test data from SF3D', fontsize=24)\n",
    "\n",
    "# Showing the plot\n",
    "plt.show()"
   ]
  },
  {
   "cell_type": "code",
   "execution_count": null,
   "metadata": {
    "execution": {
     "iopub.execute_input": "2024-06-26T11:39:21.571337Z",
     "iopub.status.busy": "2024-06-26T11:39:21.571028Z",
     "iopub.status.idle": "2024-06-26T11:39:21.636812Z",
     "shell.execute_reply": "2024-06-26T11:39:21.635885Z",
     "shell.execute_reply.started": "2024-06-26T11:39:21.571303Z"
    },
    "trusted": true
   },
   "outputs": [],
   "source": [
    "# !pip install pandas tabulate\n",
    "\n",
    "from tabulate import tabulate\n",
    "from sklearn.metrics import classification_report\n",
    "\n",
    "report = classification_report(y_true_test, y_pred_test, output_dict=True)\n",
    "\n",
    "# Chuyển từ điển vào DataFrame\n",
    "df = pd.DataFrame(report).transpose()\n",
    "df_filtered = df.drop('accuracy')\n",
    "\n",
    "# In kết quả dưới dạng bảng sử dụng tabulate\n",
    "table = tabulate(df_filtered, headers='keys', tablefmt='fancy_grid')\n",
    "print(table)"
   ]
  }
 ],
 "metadata": {
  "kaggle": {
   "accelerator": "none",
   "dataSources": [
    {
     "databundleVersionId": 868335,
     "sourceId": 5048,
     "sourceType": "competition"
    },
    {
     "datasetId": 5006073,
     "sourceId": 8411180,
     "sourceType": "datasetVersion"
    }
   ],
   "dockerImageVersionId": 30683,
   "isGpuEnabled": false,
   "isInternetEnabled": true,
   "language": "python",
   "sourceType": "notebook"
  },
  "kernelspec": {
   "display_name": "Python 3",
   "language": "python",
   "name": "python3"
  },
  "language_info": {
   "codemirror_mode": {
    "name": "ipython",
    "version": 3
   },
   "file_extension": ".py",
   "mimetype": "text/x-python",
   "name": "python",
   "nbconvert_exporter": "python",
   "pygments_lexer": "ipython3",
   "version": "3.10.13"
  }
 },
 "nbformat": 4,
 "nbformat_minor": 4
}
